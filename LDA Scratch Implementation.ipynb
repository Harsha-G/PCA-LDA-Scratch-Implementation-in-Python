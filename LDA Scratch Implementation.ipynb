{
 "cells": [
  {
   "cell_type": "markdown",
   "id": "auburn-margin",
   "metadata": {},
   "source": [
    "# Scratch Implementation of LDA in python #\n",
    "\n",
    "In this notebook, I will be implementing Linear Discriminant Analysis(LDA) in python. LDA is a dimensionality reduction technique where the labels of each datapoint are also considered. The main aim is to project our data points onto a lower dimensionality space while making sure that there is good class-separability. We still consider our Principal Components, much like in PCA, but we want to make sure that separation between classes is considered.\n",
    "\n",
    "LDA is a supervised in nature, meaning each datapoint will have a label associated with it.\n",
    "\n",
    "The dataset we will be using will be the well-known iris dataset for the sake of simplicity and easy verifcation."
   ]
  },
  {
   "cell_type": "code",
   "execution_count": 1,
   "id": "fabulous-james",
   "metadata": {},
   "outputs": [],
   "source": [
    "from sklearn import datasets\n",
    "import pandas as pd\n",
    "import numpy as np\n",
    "import seaborn as sns\n",
    "\n",
    "pd.options.mode.chained_assignment = None  # default='warn'\n",
    "iris = datasets.load_iris()\n",
    "df = pd.DataFrame(iris.data)\n",
    "df.columns = [\"SepalLengthCm\", \"SepalWidthCm\", \"PetalLengthCm\", \"PetalWidthCm\"]"
   ]
  },
  {
   "cell_type": "code",
   "execution_count": 2,
   "id": "foster-sunset",
   "metadata": {},
   "outputs": [],
   "source": [
    "mean_vector = []\n",
    "\n",
    "for column in df.columns:\n",
    "    values = df[str(column)].values\n",
    "    mean_vector.append(np.mean(values))\n",
    "    \n",
    "matrix = np.array(df.values)\n",
    "df['targets'] = iris.target"
   ]
  },
  {
   "cell_type": "code",
   "execution_count": 3,
   "id": "willing-waterproof",
   "metadata": {},
   "outputs": [
    {
     "data": {
      "text/html": [
       "<div>\n",
       "<style scoped>\n",
       "    .dataframe tbody tr th:only-of-type {\n",
       "        vertical-align: middle;\n",
       "    }\n",
       "\n",
       "    .dataframe tbody tr th {\n",
       "        vertical-align: top;\n",
       "    }\n",
       "\n",
       "    .dataframe thead th {\n",
       "        text-align: right;\n",
       "    }\n",
       "</style>\n",
       "<table border=\"1\" class=\"dataframe\">\n",
       "  <thead>\n",
       "    <tr style=\"text-align: right;\">\n",
       "      <th></th>\n",
       "      <th>SepalLengthCm</th>\n",
       "      <th>SepalWidthCm</th>\n",
       "      <th>PetalLengthCm</th>\n",
       "      <th>PetalWidthCm</th>\n",
       "      <th>targets</th>\n",
       "    </tr>\n",
       "  </thead>\n",
       "  <tbody>\n",
       "    <tr>\n",
       "      <th>0</th>\n",
       "      <td>5.1</td>\n",
       "      <td>3.5</td>\n",
       "      <td>1.4</td>\n",
       "      <td>0.2</td>\n",
       "      <td>0</td>\n",
       "    </tr>\n",
       "    <tr>\n",
       "      <th>1</th>\n",
       "      <td>4.9</td>\n",
       "      <td>3.0</td>\n",
       "      <td>1.4</td>\n",
       "      <td>0.2</td>\n",
       "      <td>0</td>\n",
       "    </tr>\n",
       "    <tr>\n",
       "      <th>2</th>\n",
       "      <td>4.7</td>\n",
       "      <td>3.2</td>\n",
       "      <td>1.3</td>\n",
       "      <td>0.2</td>\n",
       "      <td>0</td>\n",
       "    </tr>\n",
       "    <tr>\n",
       "      <th>3</th>\n",
       "      <td>4.6</td>\n",
       "      <td>3.1</td>\n",
       "      <td>1.5</td>\n",
       "      <td>0.2</td>\n",
       "      <td>0</td>\n",
       "    </tr>\n",
       "    <tr>\n",
       "      <th>4</th>\n",
       "      <td>5.0</td>\n",
       "      <td>3.6</td>\n",
       "      <td>1.4</td>\n",
       "      <td>0.2</td>\n",
       "      <td>0</td>\n",
       "    </tr>\n",
       "  </tbody>\n",
       "</table>\n",
       "</div>"
      ],
      "text/plain": [
       "   SepalLengthCm  SepalWidthCm  PetalLengthCm  PetalWidthCm  targets\n",
       "0            5.1           3.5            1.4           0.2        0\n",
       "1            4.9           3.0            1.4           0.2        0\n",
       "2            4.7           3.2            1.3           0.2        0\n",
       "3            4.6           3.1            1.5           0.2        0\n",
       "4            5.0           3.6            1.4           0.2        0"
      ]
     },
     "execution_count": 3,
     "metadata": {},
     "output_type": "execute_result"
    }
   ],
   "source": [
    "df.head()"
   ]
  },
  {
   "cell_type": "code",
   "execution_count": 4,
   "id": "fifth-honey",
   "metadata": {},
   "outputs": [
    {
     "data": {
      "text/html": [
       "<div>\n",
       "<style scoped>\n",
       "    .dataframe tbody tr th:only-of-type {\n",
       "        vertical-align: middle;\n",
       "    }\n",
       "\n",
       "    .dataframe tbody tr th {\n",
       "        vertical-align: top;\n",
       "    }\n",
       "\n",
       "    .dataframe thead th {\n",
       "        text-align: right;\n",
       "    }\n",
       "</style>\n",
       "<table border=\"1\" class=\"dataframe\">\n",
       "  <thead>\n",
       "    <tr style=\"text-align: right;\">\n",
       "      <th></th>\n",
       "      <th>SepalLengthCm</th>\n",
       "      <th>SepalWidthCm</th>\n",
       "      <th>PetalLengthCm</th>\n",
       "      <th>PetalWidthCm</th>\n",
       "    </tr>\n",
       "    <tr>\n",
       "      <th>targets</th>\n",
       "      <th></th>\n",
       "      <th></th>\n",
       "      <th></th>\n",
       "      <th></th>\n",
       "    </tr>\n",
       "  </thead>\n",
       "  <tbody>\n",
       "    <tr>\n",
       "      <th>0</th>\n",
       "      <td>5.006</td>\n",
       "      <td>3.428</td>\n",
       "      <td>1.462</td>\n",
       "      <td>0.246</td>\n",
       "    </tr>\n",
       "    <tr>\n",
       "      <th>1</th>\n",
       "      <td>5.936</td>\n",
       "      <td>2.770</td>\n",
       "      <td>4.260</td>\n",
       "      <td>1.326</td>\n",
       "    </tr>\n",
       "    <tr>\n",
       "      <th>2</th>\n",
       "      <td>6.588</td>\n",
       "      <td>2.974</td>\n",
       "      <td>5.552</td>\n",
       "      <td>2.026</td>\n",
       "    </tr>\n",
       "  </tbody>\n",
       "</table>\n",
       "</div>"
      ],
      "text/plain": [
       "         SepalLengthCm  SepalWidthCm  PetalLengthCm  PetalWidthCm\n",
       "targets                                                          \n",
       "0                5.006         3.428          1.462         0.246\n",
       "1                5.936         2.770          4.260         1.326\n",
       "2                6.588         2.974          5.552         2.026"
      ]
     },
     "execution_count": 4,
     "metadata": {},
     "output_type": "execute_result"
    }
   ],
   "source": [
    "# Generating class-wise Mean Vectors\n",
    "classws_mean_df = df.groupby(by=\"targets\").mean()\n",
    "classws_mean_df"
   ]
  },
  {
   "cell_type": "code",
   "execution_count": 5,
   "id": "mental-mileage",
   "metadata": {},
   "outputs": [
    {
     "data": {
      "text/html": [
       "<div>\n",
       "<style scoped>\n",
       "    .dataframe tbody tr th:only-of-type {\n",
       "        vertical-align: middle;\n",
       "    }\n",
       "\n",
       "    .dataframe tbody tr th {\n",
       "        vertical-align: top;\n",
       "    }\n",
       "\n",
       "    .dataframe thead th {\n",
       "        text-align: right;\n",
       "    }\n",
       "</style>\n",
       "<table border=\"1\" class=\"dataframe\">\n",
       "  <thead>\n",
       "    <tr style=\"text-align: right;\">\n",
       "      <th></th>\n",
       "      <th>SepalLengthCm</th>\n",
       "      <th>SepalWidthCm</th>\n",
       "      <th>PetalLengthCm</th>\n",
       "      <th>PetalWidthCm</th>\n",
       "    </tr>\n",
       "  </thead>\n",
       "  <tbody>\n",
       "    <tr>\n",
       "      <th>0</th>\n",
       "      <td>5.843333</td>\n",
       "      <td>3.057333</td>\n",
       "      <td>3.758</td>\n",
       "      <td>1.199333</td>\n",
       "    </tr>\n",
       "  </tbody>\n",
       "</table>\n",
       "</div>"
      ],
      "text/plain": [
       "   SepalLengthCm  SepalWidthCm  PetalLengthCm  PetalWidthCm\n",
       "0       5.843333      3.057333          3.758      1.199333"
      ]
     },
     "execution_count": 5,
     "metadata": {},
     "output_type": "execute_result"
    }
   ],
   "source": [
    "# Calculating Overall Mean-Vector\n",
    "\n",
    "total_mean_df = pd.DataFrame(df.mean())\n",
    "total_mean_df = pd.pivot_table(total_mean_df, columns = total_mean_df.index)\n",
    "total_mean_df.drop(columns=[\"targets\"],inplace=True)\n",
    "total_mean_df = total_mean_df[df.columns[:-1]]\n",
    "total_mean_df"
   ]
  },
  {
   "cell_type": "code",
   "execution_count": 6,
   "id": "beginning-hours",
   "metadata": {},
   "outputs": [
    {
     "data": {
      "text/html": [
       "<div>\n",
       "<style scoped>\n",
       "    .dataframe tbody tr th:only-of-type {\n",
       "        vertical-align: middle;\n",
       "    }\n",
       "\n",
       "    .dataframe tbody tr th {\n",
       "        vertical-align: top;\n",
       "    }\n",
       "\n",
       "    .dataframe thead th {\n",
       "        text-align: right;\n",
       "    }\n",
       "</style>\n",
       "<table border=\"1\" class=\"dataframe\">\n",
       "  <thead>\n",
       "    <tr style=\"text-align: right;\">\n",
       "      <th></th>\n",
       "      <th>SepalLengthCm</th>\n",
       "      <th>SepalWidthCm</th>\n",
       "      <th>PetalLengthCm</th>\n",
       "      <th>PetalWidthCm</th>\n",
       "      <th>targets</th>\n",
       "    </tr>\n",
       "  </thead>\n",
       "  <tbody>\n",
       "    <tr>\n",
       "      <th>0</th>\n",
       "      <td>-0.062</td>\n",
       "      <td>-0.046</td>\n",
       "      <td>0.094</td>\n",
       "      <td>0.072</td>\n",
       "      <td>0</td>\n",
       "    </tr>\n",
       "    <tr>\n",
       "      <th>1</th>\n",
       "      <td>-0.062</td>\n",
       "      <td>-0.046</td>\n",
       "      <td>-0.106</td>\n",
       "      <td>-0.428</td>\n",
       "      <td>0</td>\n",
       "    </tr>\n",
       "    <tr>\n",
       "      <th>2</th>\n",
       "      <td>-0.162</td>\n",
       "      <td>-0.046</td>\n",
       "      <td>-0.306</td>\n",
       "      <td>-0.228</td>\n",
       "      <td>0</td>\n",
       "    </tr>\n",
       "    <tr>\n",
       "      <th>3</th>\n",
       "      <td>0.038</td>\n",
       "      <td>-0.046</td>\n",
       "      <td>-0.406</td>\n",
       "      <td>-0.328</td>\n",
       "      <td>0</td>\n",
       "    </tr>\n",
       "    <tr>\n",
       "      <th>4</th>\n",
       "      <td>-0.062</td>\n",
       "      <td>-0.046</td>\n",
       "      <td>-0.006</td>\n",
       "      <td>0.172</td>\n",
       "      <td>0</td>\n",
       "    </tr>\n",
       "  </tbody>\n",
       "</table>\n",
       "</div>"
      ],
      "text/plain": [
       "   SepalLengthCm  SepalWidthCm  PetalLengthCm  PetalWidthCm  targets\n",
       "0         -0.062        -0.046          0.094         0.072        0\n",
       "1         -0.062        -0.046         -0.106        -0.428        0\n",
       "2         -0.162        -0.046         -0.306        -0.228        0\n",
       "3          0.038        -0.046         -0.406        -0.328        0\n",
       "4         -0.062        -0.046         -0.006         0.172        0"
      ]
     },
     "execution_count": 6,
     "metadata": {},
     "output_type": "execute_result"
    }
   ],
   "source": [
    "# Creating a separate standardized dataframe by subtrcting \n",
    "# the mean from each respective feature\n",
    "\n",
    "std_df = df\n",
    "\n",
    "std_df[abs(std_df[\"targets\"]==0)] = df[df[\"targets\"]==0].sub(classws_mean_df.iloc[0,:]);\n",
    "std_df[abs(std_df[\"targets\"]==1)] = df[df[\"targets\"]==1].sub(classws_mean_df.iloc[1,:]);\n",
    "std_df[abs(std_df[\"targets\"]==2)] = df[df[\"targets\"]==2].sub(classws_mean_df.iloc[2,:]);\n",
    "std_df[\"targets\"] = iris.target\n",
    "std_df.head()"
   ]
  },
  {
   "cell_type": "markdown",
   "id": "eastern-bookmark",
   "metadata": {},
   "source": [
    "1] Calculate Within Class Scatter Matrix"
   ]
  },
  {
   "cell_type": "code",
   "execution_count": 7,
   "id": "cooperative-advancement",
   "metadata": {},
   "outputs": [
    {
     "name": "stdout",
     "output_type": "stream",
     "text": [
      "[[27.2226  6.2718 24.6246  8.1208]\n",
      " [ 6.2718  6.1566  5.645   4.8084]\n",
      " [24.6246  5.645  38.9562 13.63  ]\n",
      " [ 8.1208  4.8084 13.63   16.962 ]]\n"
     ]
    }
   ],
   "source": [
    "# Calculating Within Class Scatter Matrix: Sw\n",
    "\n",
    "Sw = np.zeros((4,4))\n",
    "class_list = df[\"targets\"].unique()\n",
    "\n",
    "for class_ in class_list:\n",
    "    class_df = std_df[std_df[\"targets\"]==class_]\n",
    "    class_df.drop(columns=[\"targets\"],inplace=True)\n",
    "    val = class_df.values\n",
    "    for vec in val:\n",
    "        m1, m2 = vec.reshape(4,1), vec.reshape(4,1)\n",
    "        class_scatter_matrix = m1.dot((m2).T)\n",
    "        Sw += class_scatter_matrix\n",
    "print(Sw)"
   ]
  },
  {
   "cell_type": "markdown",
   "id": "perfect-botswana",
   "metadata": {},
   "source": [
    "2] Calculate Between Class Scatter Matrix"
   ]
  },
  {
   "cell_type": "code",
   "execution_count": 8,
   "id": "handled-narrow",
   "metadata": {},
   "outputs": [
    {
     "name": "stdout",
     "output_type": "stream",
     "text": [
      "[[ 63.21213333 -19.95266667 165.2484      71.27933333]\n",
      " [-19.95266667  11.34493333 -57.2396     -22.93266667]\n",
      " [165.2484     -57.2396     437.1028     186.774     ]\n",
      " [ 71.27933333 -22.93266667 186.774       80.41333333]]\n"
     ]
    }
   ],
   "source": [
    "# Calculating Between Class Scatter Matrix: Sb\n",
    "\n",
    "Sb = np.zeros((4,4))\n",
    "\n",
    "class_mean_arr = classws_mean_df.values\n",
    "total_mean_arr = total_mean_df.values\n",
    "\n",
    "class_list = df[\"targets\"].unique()\n",
    "class_size_arr = []\n",
    "for class_ in class_list:\n",
    "    class_size = df[df[\"targets\"]==class_].shape[0]\n",
    "    class_size_arr.append(class_size)\n",
    "    \n",
    "for n, vec in zip(class_size_arr, class_mean_arr):\n",
    "    m = (vec-total_mean_arr).reshape(4,1)\n",
    "    m = m.dot(m.T)\n",
    "    Sb += n*m\n",
    "print(Sb)"
   ]
  },
  {
   "cell_type": "markdown",
   "id": "negative-connecticut",
   "metadata": {},
   "source": [
    "3] Calculate the Eigen-Values, Eigen-Vectors "
   ]
  },
  {
   "cell_type": "code",
   "execution_count": 9,
   "id": "interesting-colorado",
   "metadata": {},
   "outputs": [],
   "source": [
    "eig_vals, eig_vecs = np.linalg.eig(np.linalg.inv(Sw).dot(Sb))"
   ]
  },
  {
   "cell_type": "code",
   "execution_count": 10,
   "id": "finished-dutch",
   "metadata": {},
   "outputs": [
    {
     "data": {
      "text/plain": [
       "array([[ 0.1024577 , -0.13949964,  0.87312082,  0.51512604],\n",
       "       [ 0.8438    ,  0.97459142, -0.34260112, -0.44319214],\n",
       "       [-0.44890054,  0.15911116, -0.33177482, -0.48717117],\n",
       "       [-0.27566697,  0.07345097, -0.1010444 ,  0.54853453]])"
      ]
     },
     "execution_count": 10,
     "metadata": {},
     "output_type": "execute_result"
    }
   ],
   "source": [
    "eig_vecs"
   ]
  },
  {
   "cell_type": "code",
   "execution_count": 11,
   "id": "framed-moscow",
   "metadata": {},
   "outputs": [
    {
     "data": {
      "text/plain": [
       "array([ 1.99928020e+01,  4.78024255e-01,  1.87587274e-15, -2.17619416e-15])"
      ]
     },
     "execution_count": 11,
     "metadata": {},
     "output_type": "execute_result"
    }
   ],
   "source": [
    "eig_vals"
   ]
  },
  {
   "cell_type": "code",
   "execution_count": 12,
   "id": "spare-jewel",
   "metadata": {},
   "outputs": [
    {
     "name": "stdout",
     "output_type": "stream",
     "text": [
      "[[ 0.1024577  -0.13949964]\n",
      " [ 0.8438      0.97459142]\n",
      " [-0.44890054  0.15911116]\n",
      " [-0.27566697  0.07345097]]\n"
     ]
    }
   ],
   "source": [
    "#Choosing the top 2 eigenvectors:\n",
    "selected_eigen_vectors = eig_vecs[:,:2]\n",
    "print(selected_eigen_vectors)"
   ]
  },
  {
   "cell_type": "markdown",
   "id": "instrumental-export",
   "metadata": {},
   "source": [
    "Reconstructing our Matrix to show the lower dimensional space"
   ]
  },
  {
   "cell_type": "code",
   "execution_count": 14,
   "id": "automotive-upgrade",
   "metadata": {},
   "outputs": [],
   "source": [
    "reduced_data = np.dot(matrix, selected_eigen_vectors)\n",
    "reducedDf = pd.DataFrame(reduced_data, columns =['dim1', 'dim2'])"
   ]
  },
  {
   "cell_type": "code",
   "execution_count": 15,
   "id": "emotional-impact",
   "metadata": {},
   "outputs": [],
   "source": [
    "reducedDf['species'] = iris.target\n",
    "reducedDf.reset_index();\n",
    "color_dict = dict({0:'blue', 1:'organge', 2:'red'})"
   ]
  },
  {
   "cell_type": "code",
   "execution_count": 16,
   "id": "super-demographic",
   "metadata": {},
   "outputs": [
    {
     "data": {
      "text/html": [
       "<div>\n",
       "<style scoped>\n",
       "    .dataframe tbody tr th:only-of-type {\n",
       "        vertical-align: middle;\n",
       "    }\n",
       "\n",
       "    .dataframe tbody tr th {\n",
       "        vertical-align: top;\n",
       "    }\n",
       "\n",
       "    .dataframe thead th {\n",
       "        text-align: right;\n",
       "    }\n",
       "</style>\n",
       "<table border=\"1\" class=\"dataframe\">\n",
       "  <thead>\n",
       "    <tr style=\"text-align: right;\">\n",
       "      <th></th>\n",
       "      <th>dim1</th>\n",
       "      <th>dim2</th>\n",
       "      <th>species</th>\n",
       "    </tr>\n",
       "  </thead>\n",
       "  <tbody>\n",
       "    <tr>\n",
       "      <th>0</th>\n",
       "      <td>2.792240</td>\n",
       "      <td>2.937068</td>\n",
       "      <td>0</td>\n",
       "    </tr>\n",
       "    <tr>\n",
       "      <th>1</th>\n",
       "      <td>2.349849</td>\n",
       "      <td>2.477672</td>\n",
       "      <td>0</td>\n",
       "    </tr>\n",
       "    <tr>\n",
       "      <th>2</th>\n",
       "      <td>2.543007</td>\n",
       "      <td>2.684579</td>\n",
       "      <td>0</td>\n",
       "    </tr>\n",
       "    <tr>\n",
       "      <th>3</th>\n",
       "      <td>2.358601</td>\n",
       "      <td>2.632892</td>\n",
       "      <td>0</td>\n",
       "    </tr>\n",
       "    <tr>\n",
       "      <th>4</th>\n",
       "      <td>2.866374</td>\n",
       "      <td>3.048477</td>\n",
       "      <td>0</td>\n",
       "    </tr>\n",
       "    <tr>\n",
       "      <th>...</th>\n",
       "      <td>...</td>\n",
       "      <td>...</td>\n",
       "      <td>...</td>\n",
       "    </tr>\n",
       "    <tr>\n",
       "      <th>145</th>\n",
       "      <td>0.249550</td>\n",
       "      <td>2.985442</td>\n",
       "      <td>2</td>\n",
       "    </tr>\n",
       "    <tr>\n",
       "      <th>146</th>\n",
       "      <td>-0.013286</td>\n",
       "      <td>2.492743</td>\n",
       "      <td>2</td>\n",
       "    </tr>\n",
       "    <tr>\n",
       "      <th>147</th>\n",
       "      <td>0.311758</td>\n",
       "      <td>2.991307</td>\n",
       "      <td>2</td>\n",
       "    </tr>\n",
       "    <tr>\n",
       "      <th>148</th>\n",
       "      <td>0.446061</td>\n",
       "      <td>3.476851</td>\n",
       "      <td>2</td>\n",
       "    </tr>\n",
       "    <tr>\n",
       "      <th>149</th>\n",
       "      <td>0.350307</td>\n",
       "      <td>3.044405</td>\n",
       "      <td>2</td>\n",
       "    </tr>\n",
       "  </tbody>\n",
       "</table>\n",
       "<p>150 rows × 3 columns</p>\n",
       "</div>"
      ],
      "text/plain": [
       "         dim1      dim2  species\n",
       "0    2.792240  2.937068        0\n",
       "1    2.349849  2.477672        0\n",
       "2    2.543007  2.684579        0\n",
       "3    2.358601  2.632892        0\n",
       "4    2.866374  3.048477        0\n",
       "..        ...       ...      ...\n",
       "145  0.249550  2.985442        2\n",
       "146 -0.013286  2.492743        2\n",
       "147  0.311758  2.991307        2\n",
       "148  0.446061  3.476851        2\n",
       "149  0.350307  3.044405        2\n",
       "\n",
       "[150 rows x 3 columns]"
      ]
     },
     "execution_count": 16,
     "metadata": {},
     "output_type": "execute_result"
    }
   ],
   "source": [
    "reducedDf"
   ]
  },
  {
   "cell_type": "code",
   "execution_count": 17,
   "id": "regulated-aberdeen",
   "metadata": {},
   "outputs": [
    {
     "data": {
      "text/plain": [
       "<seaborn.axisgrid.FacetGrid at 0x1ee26351808>"
      ]
     },
     "execution_count": 17,
     "metadata": {},
     "output_type": "execute_result"
    },
    {
     "data": {
      "image/png": "[encoded data removed]",
      "text/plain": [
       "<Figure size 405.375x360 with 1 Axes>"
      ]
     },
     "metadata": {
      "needs_background": "light"
     },
     "output_type": "display_data"
    }
   ],
   "source": [
    "import seaborn as sns\n",
    "sns.lmplot(data=reducedDf, x='dim1', y='dim2', hue='species', fit_reg=False)"
   ]
  }
 ],
 "metadata": {
  "kernelspec": {
   "display_name": "Python 3",
   "language": "python",
   "name": "python3"
  },
  "language_info": {
   "codemirror_mode": {
    "name": "ipython",
    "version": 3
   },
   "file_extension": ".py",
   "mimetype": "text/x-python",
   "name": "python",
   "nbconvert_exporter": "python",
   "pygments_lexer": "ipython3",
   "version": "3.7.4"
  }
 },
 "nbformat": 4,
 "nbformat_minor": 5
}
