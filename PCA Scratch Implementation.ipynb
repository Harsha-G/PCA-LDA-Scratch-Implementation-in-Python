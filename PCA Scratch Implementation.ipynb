{
 "cells": [
  {
   "cell_type": "markdown",
   "id": "convertible-scholarship",
   "metadata": {},
   "source": [
    "# Scratch Implementation of PCA in Python #\n",
    "\n",
    "In this notebook, I will be implementing Principal Component Analysis(PCA) in python. PCA is a dimensionality reduction technique which can be used to reduce the dimensionality of large, multi-dimensional datasets. It does this by taking each datapoint and projecting them upon the principal components.\n",
    "\n",
    "PCA is an unsupervised in nature, meaning we only consider the datapoints without considering any labels.\n",
    "\n",
    "The dataset we will be using will be the well-known iris dataset for the sake of simplicity and easy verifcation."
   ]
  },
  {
   "cell_type": "code",
   "execution_count": 1,
   "id": "shaped-hardware",
   "metadata": {},
   "outputs": [],
   "source": [
    "from sklearn import datasets\n",
    "import pandas as pd\n",
    "import numpy as np"
   ]
  },
  {
   "cell_type": "code",
   "execution_count": 2,
   "id": "fatty-cooperative",
   "metadata": {},
   "outputs": [],
   "source": [
    "iris = datasets.load_iris()"
   ]
  },
  {
   "cell_type": "code",
   "execution_count": 3,
   "id": "processed-parish",
   "metadata": {},
   "outputs": [],
   "source": [
    "df = pd.DataFrame(iris.data)\n",
    "df.columns = [\"SepalLengthCm\", \"SepalWidthCm\", \"PetalLengthCm\", \"PetalWidthCm\"]"
   ]
  },
  {
   "cell_type": "code",
   "execution_count": 4,
   "id": "intensive-option",
   "metadata": {},
   "outputs": [
    {
     "data": {
      "text/html": [
       "<div>\n",
       "<style scoped>\n",
       "    .dataframe tbody tr th:only-of-type {\n",
       "        vertical-align: middle;\n",
       "    }\n",
       "\n",
       "    .dataframe tbody tr th {\n",
       "        vertical-align: top;\n",
       "    }\n",
       "\n",
       "    .dataframe thead th {\n",
       "        text-align: right;\n",
       "    }\n",
       "</style>\n",
       "<table border=\"1\" class=\"dataframe\">\n",
       "  <thead>\n",
       "    <tr style=\"text-align: right;\">\n",
       "      <th></th>\n",
       "      <th>SepalLengthCm</th>\n",
       "      <th>SepalWidthCm</th>\n",
       "      <th>PetalLengthCm</th>\n",
       "      <th>PetalWidthCm</th>\n",
       "    </tr>\n",
       "  </thead>\n",
       "  <tbody>\n",
       "    <tr>\n",
       "      <th>0</th>\n",
       "      <td>5.1</td>\n",
       "      <td>3.5</td>\n",
       "      <td>1.4</td>\n",
       "      <td>0.2</td>\n",
       "    </tr>\n",
       "    <tr>\n",
       "      <th>1</th>\n",
       "      <td>4.9</td>\n",
       "      <td>3.0</td>\n",
       "      <td>1.4</td>\n",
       "      <td>0.2</td>\n",
       "    </tr>\n",
       "    <tr>\n",
       "      <th>2</th>\n",
       "      <td>4.7</td>\n",
       "      <td>3.2</td>\n",
       "      <td>1.3</td>\n",
       "      <td>0.2</td>\n",
       "    </tr>\n",
       "    <tr>\n",
       "      <th>3</th>\n",
       "      <td>4.6</td>\n",
       "      <td>3.1</td>\n",
       "      <td>1.5</td>\n",
       "      <td>0.2</td>\n",
       "    </tr>\n",
       "    <tr>\n",
       "      <th>4</th>\n",
       "      <td>5.0</td>\n",
       "      <td>3.6</td>\n",
       "      <td>1.4</td>\n",
       "      <td>0.2</td>\n",
       "    </tr>\n",
       "  </tbody>\n",
       "</table>\n",
       "</div>"
      ],
      "text/plain": [
       "   SepalLengthCm  SepalWidthCm  PetalLengthCm  PetalWidthCm\n",
       "0            5.1           3.5            1.4           0.2\n",
       "1            4.9           3.0            1.4           0.2\n",
       "2            4.7           3.2            1.3           0.2\n",
       "3            4.6           3.1            1.5           0.2\n",
       "4            5.0           3.6            1.4           0.2"
      ]
     },
     "execution_count": 4,
     "metadata": {},
     "output_type": "execute_result"
    }
   ],
   "source": [
    "df.head()"
   ]
  },
  {
   "cell_type": "code",
   "execution_count": 5,
   "id": "noticed-appliance",
   "metadata": {},
   "outputs": [],
   "source": [
    "matrix = np.array(df.values)"
   ]
  },
  {
   "cell_type": "code",
   "execution_count": 6,
   "id": "painted-transmission",
   "metadata": {},
   "outputs": [],
   "source": [
    "mean_vector = []\n",
    "\n",
    "for column in df.columns:\n",
    "    values = df[str(column)].values\n",
    "    mean_vector.append(np.mean(values))"
   ]
  },
  {
   "cell_type": "markdown",
   "id": "collect-retrieval",
   "metadata": {},
   "source": [
    "### Standardization Funtions ###"
   ]
  },
  {
   "cell_type": "code",
   "execution_count": 7,
   "id": "great-player",
   "metadata": {},
   "outputs": [],
   "source": [
    "def Standard_Deviation(samples):\n",
    "    samples_arr = samples.reshape(-1)\n",
    "    mean = np.mean(samples_arr)\n",
    "    n = len(samples_arr)\n",
    "    \n",
    "    samples_arr = [(sample - mean)**2 for sample in samples_arr]\n",
    "    summation = np.sum(samples_arr)\n",
    "    std = np.sqrt(summation/n)\n",
    "    \n",
    "    return std\n",
    "\n",
    "def Standardize_Feature(feature_samples):\n",
    "    mean = np.mean(feature_samples)\n",
    "    std = Standard_Deviation(feature_samples)\n",
    "    \n",
    "    standardized_data = [ (sample - mean) / std for sample in feature_samples]\n",
    "    return standardized_data\n",
    "\n",
    "def Standardize_Matrix(matrix):\n",
    "    rows, columns = matrix.shape\n",
    "    standardized_matrix = np.zeros((rows, columns))\n",
    "    \n",
    "    for column in range(0, columns):\n",
    "        feature_samples = matrix[:, column]\n",
    "        standardized_matrix[:, column] = Standardize_Feature(feature_samples)\n",
    "        \n",
    "    return standardized_matrix"
   ]
  },
  {
   "cell_type": "markdown",
   "id": "lightweight-extreme",
   "metadata": {},
   "source": [
    "### Covariance Funtions ###"
   ]
  },
  {
   "cell_type": "code",
   "execution_count": 8,
   "id": "administrative-alexander",
   "metadata": {},
   "outputs": [],
   "source": [
    "def cov(feature_samples1, feature_samples2, feature_mean1=None, feature_mean2=None):\n",
    "    n = len(feature_samples1)\n",
    "    \n",
    "    if(feature_mean1==None):\n",
    "        feature_mean1 = np.mean(feature_samples1)\n",
    "    if(feature_mean2==None):\n",
    "        feature_mean2 = np.mean(feature_samples2)\n",
    "    \n",
    "    standardized_feature_samples1 = [ sample - feature_mean1 for sample in feature_samples1 ]\n",
    "    standardized_feature_samples2 = [ sample - feature_mean2 for sample in feature_samples2 ]\n",
    "    \n",
    "    summation_products = 0\n",
    "    for s1, s2 in zip(standardized_feature_samples1, standardized_feature_samples2):\n",
    "        summation_products += s1*s2\n",
    "        \n",
    "    return summation_products/n\n",
    "\n",
    "def Covariance_Matrix(MatrixArr):\n",
    "    rows, columns = MatrixArr.shape\n",
    "    covariance_matrix = np.zeros((columns, columns))\n",
    "    \n",
    "    for i in range(0, columns):\n",
    "        feature_samples1 = MatrixArr[:,i]\n",
    "        for j in range(0, columns):\n",
    "            feature_samples2 = MatrixArr[:,j]\n",
    "            \n",
    "            covariance_matrix[i,j] = cov(feature_samples1, feature_samples2)\n",
    "            \n",
    "    return covariance_matrix"
   ]
  },
  {
   "cell_type": "markdown",
   "id": "liberal-ability",
   "metadata": {},
   "source": [
    "1] Standardization of our Data"
   ]
  },
  {
   "cell_type": "code",
   "execution_count": 9,
   "id": "steady-usage",
   "metadata": {},
   "outputs": [],
   "source": [
    "standardized = Standardize_Matrix(matrix)"
   ]
  },
  {
   "cell_type": "markdown",
   "id": "beginning-tennis",
   "metadata": {},
   "source": [
    "2] Getting Covariance Matrix "
   ]
  },
  {
   "cell_type": "code",
   "execution_count": 10,
   "id": "romantic-courtesy",
   "metadata": {},
   "outputs": [],
   "source": [
    "covMatrix = Covariance_Matrix(standardized)"
   ]
  },
  {
   "cell_type": "markdown",
   "id": "standing-alert",
   "metadata": {},
   "source": [
    "3] Computing Eigenvectors, Eigenalues of our Covariance Matrix"
   ]
  },
  {
   "cell_type": "code",
   "execution_count": 11,
   "id": "amber-housing",
   "metadata": {},
   "outputs": [],
   "source": [
    "eigen_values, eigen_vectors = np.linalg.eig(covMatrix)"
   ]
  },
  {
   "cell_type": "code",
   "execution_count": 12,
   "id": "separated-genius",
   "metadata": {},
   "outputs": [
    {
     "data": {
      "text/plain": [
       "array([2.91849782, 0.91403047, 0.14675688, 0.02071484])"
      ]
     },
     "execution_count": 12,
     "metadata": {},
     "output_type": "execute_result"
    }
   ],
   "source": [
    "eigen_values"
   ]
  },
  {
   "cell_type": "code",
   "execution_count": 13,
   "id": "spiritual-departure",
   "metadata": {},
   "outputs": [
    {
     "data": {
      "text/plain": [
       "array([[ 0.52106591, -0.37741762, -0.71956635,  0.26128628],\n",
       "       [-0.26934744, -0.92329566,  0.24438178, -0.12350962],\n",
       "       [ 0.5804131 , -0.02449161,  0.14212637, -0.80144925],\n",
       "       [ 0.56485654, -0.06694199,  0.63427274,  0.52359713]])"
      ]
     },
     "execution_count": 13,
     "metadata": {},
     "output_type": "execute_result"
    }
   ],
   "source": [
    "eigen_vectors"
   ]
  },
  {
   "cell_type": "code",
   "execution_count": 14,
   "id": "verbal-arlington",
   "metadata": {},
   "outputs": [
    {
     "name": "stdout",
     "output_type": "stream",
     "text": [
      "[[ 0.52106591 -0.37741762]\n",
      " [-0.26934744 -0.92329566]\n",
      " [ 0.5804131  -0.02449161]\n",
      " [ 0.56485654 -0.06694199]]\n"
     ]
    }
   ],
   "source": [
    "#Choosing the top 2 eigenvectors:\n",
    "selected_eigen_vectors = eigen_vectors[:,:2]\n",
    "print(selected_eigen_vectors)"
   ]
  },
  {
   "cell_type": "code",
   "execution_count": 20,
   "id": "essential-terrain",
   "metadata": {},
   "outputs": [],
   "source": [
    "reduced_data = np.dot(matrix, selected_eigen_vectors)\n",
    "reducedDf = pd.DataFrame(reduced_data, columns=['dim1', 'dim2'])\n",
    "\n",
    "reducedDf['species'] = iris.target\n",
    "reducedDf.reset_index()\n",
    "color_dict = dict({0:'blue', 1:'organge', 2:'red'})"
   ]
  },
  {
   "cell_type": "code",
   "execution_count": 21,
   "id": "brave-rabbit",
   "metadata": {},
   "outputs": [
    {
     "data": {
      "text/html": [
       "<div>\n",
       "<style scoped>\n",
       "    .dataframe tbody tr th:only-of-type {\n",
       "        vertical-align: middle;\n",
       "    }\n",
       "\n",
       "    .dataframe tbody tr th {\n",
       "        vertical-align: top;\n",
       "    }\n",
       "\n",
       "    .dataframe thead th {\n",
       "        text-align: right;\n",
       "    }\n",
       "</style>\n",
       "<table border=\"1\" class=\"dataframe\">\n",
       "  <thead>\n",
       "    <tr style=\"text-align: right;\">\n",
       "      <th></th>\n",
       "      <th>dim1</th>\n",
       "      <th>dim2</th>\n",
       "      <th>species</th>\n",
       "    </tr>\n",
       "  </thead>\n",
       "  <tbody>\n",
       "    <tr>\n",
       "      <th>0</th>\n",
       "      <td>2.640270</td>\n",
       "      <td>-5.204041</td>\n",
       "      <td>0</td>\n",
       "    </tr>\n",
       "    <tr>\n",
       "      <th>1</th>\n",
       "      <td>2.670730</td>\n",
       "      <td>-4.666910</td>\n",
       "      <td>0</td>\n",
       "    </tr>\n",
       "    <tr>\n",
       "      <th>2</th>\n",
       "      <td>2.454606</td>\n",
       "      <td>-4.773636</td>\n",
       "      <td>0</td>\n",
       "    </tr>\n",
       "    <tr>\n",
       "      <th>3</th>\n",
       "      <td>2.545517</td>\n",
       "      <td>-4.648463</td>\n",
       "      <td>0</td>\n",
       "    </tr>\n",
       "    <tr>\n",
       "      <th>4</th>\n",
       "      <td>2.561228</td>\n",
       "      <td>-5.258629</td>\n",
       "      <td>0</td>\n",
       "    </tr>\n",
       "    <tr>\n",
       "      <th>...</th>\n",
       "      <td>...</td>\n",
       "      <td>...</td>\n",
       "      <td>...</td>\n",
       "    </tr>\n",
       "    <tr>\n",
       "      <th>145</th>\n",
       "      <td>7.000417</td>\n",
       "      <td>-5.579908</td>\n",
       "      <td>2</td>\n",
       "    </tr>\n",
       "    <tr>\n",
       "      <th>146</th>\n",
       "      <td>6.584640</td>\n",
       "      <td>-4.935618</td>\n",
       "      <td>2</td>\n",
       "    </tr>\n",
       "    <tr>\n",
       "      <th>147</th>\n",
       "      <td>6.726747</td>\n",
       "      <td>-5.484342</td>\n",
       "      <td>2</td>\n",
       "    </tr>\n",
       "    <tr>\n",
       "      <th>148</th>\n",
       "      <td>6.748228</td>\n",
       "      <td>-5.765416</td>\n",
       "      <td>2</td>\n",
       "    </tr>\n",
       "    <tr>\n",
       "      <th>149</th>\n",
       "      <td>6.243095</td>\n",
       "      <td>-5.242054</td>\n",
       "      <td>2</td>\n",
       "    </tr>\n",
       "  </tbody>\n",
       "</table>\n",
       "<p>150 rows × 3 columns</p>\n",
       "</div>"
      ],
      "text/plain": [
       "         dim1      dim2  species\n",
       "0    2.640270 -5.204041        0\n",
       "1    2.670730 -4.666910        0\n",
       "2    2.454606 -4.773636        0\n",
       "3    2.545517 -4.648463        0\n",
       "4    2.561228 -5.258629        0\n",
       "..        ...       ...      ...\n",
       "145  7.000417 -5.579908        2\n",
       "146  6.584640 -4.935618        2\n",
       "147  6.726747 -5.484342        2\n",
       "148  6.748228 -5.765416        2\n",
       "149  6.243095 -5.242054        2\n",
       "\n",
       "[150 rows x 3 columns]"
      ]
     },
     "execution_count": 21,
     "metadata": {},
     "output_type": "execute_result"
    }
   ],
   "source": [
    "reducedDf"
   ]
  },
  {
   "cell_type": "code",
   "execution_count": 27,
   "id": "final-reservation",
   "metadata": {},
   "outputs": [
    {
     "data": {
      "text/plain": [
       "<seaborn.axisgrid.FacetGrid at 0x282a8c64b08>"
      ]
     },
     "execution_count": 27,
     "metadata": {},
     "output_type": "execute_result"
    },
    {
     "data": {
      "image/png": "[encoded data removed]",
      "text/plain": [
       "<Figure size 405.375x360 with 1 Axes>"
      ]
     },
     "metadata": {
      "needs_background": "light"
     },
     "output_type": "display_data"
    }
   ],
   "source": [
    "sns.lmplot(data=reducedDf, x='dim1', y='dim2', hue='species', fit_reg=False)"
   ]
  }
 ],
 "metadata": {
  "kernelspec": {
   "display_name": "Python 3",
   "language": "python",
   "name": "python3"
  },
  "language_info": {
   "codemirror_mode": {
    "name": "ipython",
    "version": 3
   },
   "file_extension": ".py",
   "mimetype": "text/x-python",
   "name": "python",
   "nbconvert_exporter": "python",
   "pygments_lexer": "ipython3",
   "version": "3.7.4"
  }
 },
 "nbformat": 4,
 "nbformat_minor": 5
}
